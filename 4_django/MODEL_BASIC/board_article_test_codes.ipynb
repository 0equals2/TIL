{
 "cells": [
  {
   "cell_type": "markdown",
   "metadata": {},
   "source": [
    "# CRUD Basic\n",
    "## CRUD\n",
    "* Create → 데이터 생성\n",
    "* Read (Retrieve) → 데이터 조회\n",
    "* Update → 데이터 수정\n",
    "* Delete → 데이터 삭제\n",
    "\n",
    "## Articles Table - schema\n",
    "\n",
    "| Field Name | Data type                 |\n",
    "| ---------- | ------------------------- |\n",
    "| id         | integer, primary Key      |\n",
    "| title      | CharField(max_length=200) |\n",
    "| content    | TextField()               |\n",
    "\n"
   ]
  },
  {
   "cell_type": "code",
   "execution_count": 1,
   "metadata": {
    "ExecuteTime": {
     "end_time": "2019-06-04T07:48:52.884230Z",
     "start_time": "2019-06-04T07:48:52.853030Z"
    }
   },
   "outputs": [],
   "source": [
    "from board.models import Article"
   ]
  },
  {
   "cell_type": "markdown",
   "metadata": {},
   "source": [
    "## Create (데이터 생성)\n",
    "1. `Article` 객체를 생성한다.\n",
    "2. 필드를 채운다.\n",
    "3. 저장한다"
   ]
  },
  {
   "cell_type": "code",
   "execution_count": 12,
   "metadata": {
    "ExecuteTime": {
     "end_time": "2019-06-04T08:27:57.060143Z",
     "start_time": "2019-06-04T08:27:57.044543Z"
    }
   },
   "outputs": [],
   "source": [
    "# 생성 → 필드채우기 → 저장\n",
    "# article = Article()\n",
    "\n",
    "# article.title = 'Test'\n",
    "# article.content = 'This is test article'\n",
    "\n",
    "# article.save()"
   ]
  },
  {
   "cell_type": "code",
   "execution_count": 15,
   "metadata": {
    "ExecuteTime": {
     "end_time": "2019-06-04T08:29:50.533344Z",
     "start_time": "2019-06-04T08:29:50.398544Z"
    }
   },
   "outputs": [],
   "source": [
    "# 생성 & 필드채우기 → 저장\n",
    "# article = Article(title='2 step', content='Create')\n",
    "# article.save()"
   ]
  },
  {
   "cell_type": "code",
   "execution_count": 14,
   "metadata": {
    "ExecuteTime": {
     "end_time": "2019-06-04T08:29:29.736144Z",
     "start_time": "2019-06-04T08:29:29.561944Z"
    }
   },
   "outputs": [
    {
     "data": {
      "text/plain": [
       "<Article: 6: One line -Create>"
      ]
     },
     "execution_count": 14,
     "metadata": {},
     "output_type": "execute_result"
    }
   ],
   "source": [
    "# 생성 & 필드채우기 & 저장\n",
    "# (Article.objects).create(title='One line', content='Create')"
   ]
  },
  {
   "cell_type": "markdown",
   "metadata": {},
   "source": [
    "## Read(Retrieve 데이터 조회)\n",
    "1. 여러개 조회 - 없으면, 비어있는 []\n",
    "    * **전체 조회**\n",
    "    * 특정 조건을 만족하는 레코드들 조회\n",
    "2. 정확히 한개 조회 - 없으면, 에러\n",
    "    * **id(pk) 값으로 조회**\n",
    "    * 특정 조건을 만족하는 첫 번째 레코드 조회\n",
    " "
   ]
  },
  {
   "cell_type": "code",
   "execution_count": 3,
   "metadata": {
    "ExecuteTime": {
     "end_time": "2019-06-04T07:48:54.680430Z",
     "start_time": "2019-06-04T07:48:54.649230Z"
    }
   },
   "outputs": [
    {
     "data": {
      "text/plain": [
       "<django.db.models.manager.Manager at 0x72a01d0>"
      ]
     },
     "execution_count": 3,
     "metadata": {},
     "output_type": "execute_result"
    }
   ],
   "source": [
    "Article.objects #Article을 관리하는 manager"
   ]
  },
  {
   "cell_type": "code",
   "execution_count": 5,
   "metadata": {
    "ExecuteTime": {
     "end_time": "2019-06-04T07:49:00.857630Z",
     "start_time": "2019-06-04T07:49:00.840030Z"
    }
   },
   "outputs": [
    {
     "data": {
      "text/plain": [
       "<QuerySet [<Article: 1: Bye -Good bye world>, <Article: 3: good -wow>, <Article: 4: Test -This is test article>]>"
      ]
     },
     "execution_count": 5,
     "metadata": {},
     "output_type": "execute_result"
    }
   ],
   "source": [
    "(Article.objects).all() #전체 조회"
   ]
  },
  {
   "cell_type": "code",
   "execution_count": 6,
   "metadata": {
    "ExecuteTime": {
     "end_time": "2019-06-04T07:50:28.316830Z",
     "start_time": "2019-06-04T07:50:28.301230Z"
    }
   },
   "outputs": [
    {
     "data": {
      "text/plain": [
       "<Article: 1: Bye -Good bye world>"
      ]
     },
     "execution_count": 6,
     "metadata": {},
     "output_type": "execute_result"
    }
   ],
   "source": [
    "(Article.objects).get(id=1) #id 한개로 조회"
   ]
  },
  {
   "cell_type": "markdown",
   "metadata": {},
   "source": [
    "## Update (데이터 수정)\n",
    "1. `Article` 객체를 하나 고른다.\n",
    "2. 필드를 알맞게 수정한다.\n",
    "3. 저장한다."
   ]
  },
  {
   "cell_type": "code",
   "execution_count": 10,
   "metadata": {
    "ExecuteTime": {
     "end_time": "2019-06-04T08:12:24.794938Z",
     "start_time": "2019-06-04T08:12:24.566338Z"
    }
   },
   "outputs": [],
   "source": [
    "article = Article.objects.get(pk=3)\n",
    "\n",
    "article.title= '6pm'\n",
    "article.content = 'Time to go home!'\n",
    "\n",
    "article.save()"
   ]
  },
  {
   "cell_type": "markdown",
   "metadata": {},
   "source": [
    "## Delete (데이터 삭제)\n",
    "1. `Article` 객체를 하나 고른다.\n",
    "2. 삭제한다."
   ]
  },
  {
   "cell_type": "code",
   "execution_count": 11,
   "metadata": {
    "ExecuteTime": {
     "end_time": "2019-06-04T08:13:49.339738Z",
     "start_time": "2019-06-04T08:13:49.152738Z"
    }
   },
   "outputs": [
    {
     "data": {
      "text/plain": [
       "(1, {'board.Article': 1})"
      ]
     },
     "execution_count": 11,
     "metadata": {},
     "output_type": "execute_result"
    }
   ],
   "source": [
    "# article = Article.objects.get(id=3)\n",
    "\n",
    "# article.delete()"
   ]
  },
  {
   "cell_type": "code",
   "execution_count": null,
   "metadata": {},
   "outputs": [],
   "source": []
  }
 ],
 "metadata": {
  "kernelspec": {
   "display_name": "Django Shell-Plus",
   "language": "python",
   "name": "django_extensions"
  },
  "language_info": {
   "codemirror_mode": {
    "name": "ipython",
    "version": 3
   },
   "file_extension": ".py",
   "mimetype": "text/x-python",
   "name": "python",
   "nbconvert_exporter": "python",
   "pygments_lexer": "ipython3",
   "version": "3.6.5"
  }
 },
 "nbformat": 4,
 "nbformat_minor": 2
}
